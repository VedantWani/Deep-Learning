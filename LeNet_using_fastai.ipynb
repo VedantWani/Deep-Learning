{
  "nbformat": 4,
  "nbformat_minor": 0,
  "metadata": {
    "colab": {
      "name": "LeNet using fastai",
      "provenance": [],
      "collapsed_sections": []
    },
    "kernelspec": {
      "name": "python3",
      "display_name": "Python 3"
    },
    "accelerator": "GPU"
  },
  "cells": [
    {
      "cell_type": "code",
      "metadata": {
        "id": "dySSpA701tOn",
        "colab_type": "code",
        "outputId": "2df6e669-0ad4-4905-819f-1933fdd9d545",
        "colab": {
          "base_uri": "https://localhost:8080/",
          "height": 51
        }
      },
      "source": [
        " !curl -s https://course.fast.ai/setup/colab | bash"
      ],
      "execution_count": 0,
      "outputs": [
        {
          "output_type": "stream",
          "text": [
            "Updating fastai...\n",
            "Done.\n"
          ],
          "name": "stdout"
        }
      ]
    },
    {
      "cell_type": "markdown",
      "metadata": {
        "id": "evTYYV9FEqH2",
        "colab_type": "text"
      },
      "source": [
        "LeNet5 Architecture with CrossEntropy loss function"
      ]
    },
    {
      "cell_type": "code",
      "metadata": {
        "id": "9bVEJzH51JOl",
        "colab_type": "code",
        "colab": {}
      },
      "source": [
        "%reload_ext autoreload\n",
        "%autoreload 2\n",
        "%matplotlib inline"
      ],
      "execution_count": 0,
      "outputs": []
    },
    {
      "cell_type": "code",
      "metadata": {
        "id": "o3Pdb2ED12lF",
        "colab_type": "code",
        "colab": {}
      },
      "source": [
        "from fastai.vision import *"
      ],
      "execution_count": 0,
      "outputs": []
    },
    {
      "cell_type": "code",
      "metadata": {
        "id": "C23KiWQA1TiS",
        "colab_type": "code",
        "colab": {}
      },
      "source": [
        "np.random.seed(43)"
      ],
      "execution_count": 0,
      "outputs": []
    },
    {
      "cell_type": "markdown",
      "metadata": {
        "id": "8OLf3ShX32OB",
        "colab_type": "text"
      },
      "source": [
        "/train-images.idx3-ubyte"
      ]
    },
    {
      "cell_type": "code",
      "metadata": {
        "id": "B6nbneBM1_VQ",
        "colab_type": "code",
        "outputId": "2e66db8f-d855-47b0-c25c-4caceaa16d75",
        "colab": {
          "base_uri": "https://localhost:8080/",
          "height": 34
        }
      },
      "source": [
        "path = untar_data(URLs.MNIST)"
      ],
      "execution_count": 0,
      "outputs": [
        {
          "output_type": "stream",
          "text": [
            "Downloading https://s3.amazonaws.com/fast-ai-imageclas/mnist_png\n"
          ],
          "name": "stdout"
        },
        {
          "output_type": "display_data",
          "data": {
            "text/html": [
              ""
            ],
            "text/plain": [
              "<IPython.core.display.HTML object>"
            ]
          },
          "metadata": {
            "tags": []
          }
        }
      ]
    },
    {
      "cell_type": "code",
      "metadata": {
        "id": "MmJn0A0M2TyT",
        "colab_type": "code",
        "colab": {}
      },
      "source": [
        "class MSELossFlat(nn.MSELoss): \n",
        "#“Same as `nn.MSELoss`, but flattens input and target.”\n",
        "  def forward(self, input:Tensor, target:Tensor) -> Rank0Tensor:\n",
        "    use_cuda = torch.cuda.is_available()\n",
        "    print(use_cuda)\n",
        "    if use_cuda:\n",
        "      y_matrix = torch.eye(10)[target].cuda()\n",
        "    else:\n",
        "      y_matrix = torch.eye(10)[target]\n",
        "    return super().forward(input, y_matrix)"
      ],
      "execution_count": 0,
      "outputs": []
    },
    {
      "cell_type": "code",
      "metadata": {
        "id": "qBQXN5y5V_MO",
        "colab_type": "code",
        "colab": {}
      },
      "source": [
        ""
      ],
      "execution_count": 0,
      "outputs": []
    },
    {
      "cell_type": "code",
      "metadata": {
        "id": "Gr-oCETv5Y4T",
        "colab_type": "code",
        "outputId": "86ce957f-a66f-4059-e8b5-f0a03b4fdd6b",
        "colab": {
          "base_uri": "https://localhost:8080/",
          "height": 51
        }
      },
      "source": [
        "path.ls()"
      ],
      "execution_count": 0,
      "outputs": [
        {
          "output_type": "execute_result",
          "data": {
            "text/plain": [
              "[PosixPath('/root/.fastai/data/mnist_png/training'),\n",
              " PosixPath('/root/.fastai/data/mnist_png/testing')]"
            ]
          },
          "metadata": {
            "tags": []
          },
          "execution_count": 7
        }
      ]
    },
    {
      "cell_type": "code",
      "metadata": {
        "id": "cY37e9zcGOBY",
        "colab_type": "code",
        "colab": {}
      },
      "source": [
        "il = ImageList.from_folder(path, convert_mode='L')"
      ],
      "execution_count": 0,
      "outputs": []
    },
    {
      "cell_type": "code",
      "metadata": {
        "id": "sDzNwyFgJdHJ",
        "colab_type": "code",
        "outputId": "12993223-19ca-4bcb-9161-d17a552b383c",
        "colab": {
          "base_uri": "https://localhost:8080/",
          "height": 194
        }
      },
      "source": [
        "il[26500].show()"
      ],
      "execution_count": 0,
      "outputs": [
        {
          "output_type": "display_data",
          "data": {
            "image/png": "[encoded data removed]",
            "text/plain": [
              "<Figure size 216x216 with 1 Axes>"
            ]
          },
          "metadata": {
            "tags": []
          }
        }
      ]
    },
    {
      "cell_type": "code",
      "metadata": {
        "id": "WblczpeHJrXj",
        "colab_type": "code",
        "colab": {}
      },
      "source": [
        ""
      ],
      "execution_count": 0,
      "outputs": []
    },
    {
      "cell_type": "code",
      "metadata": {
        "id": "GGrYh-j7JiXG",
        "colab_type": "code",
        "colab": {}
      },
      "source": [
        "defaults.cmap= 'binary'"
      ],
      "execution_count": 0,
      "outputs": []
    },
    {
      "cell_type": "code",
      "metadata": {
        "id": "5ABnbiCHJoBu",
        "colab_type": "code",
        "colab": {}
      },
      "source": [
        "sd = il.split_by_folder(train='training', valid='testing')\n"
      ],
      "execution_count": 0,
      "outputs": []
    },
    {
      "cell_type": "code",
      "metadata": {
        "id": "OeFJ8u5tfQAo",
        "colab_type": "code",
        "outputId": "77f18756-6819-4c68-b548-a437a0de5fed",
        "colab": {
          "base_uri": "https://localhost:8080/",
          "height": 204
        }
      },
      "source": [
        "sd"
      ],
      "execution_count": 0,
      "outputs": [
        {
          "output_type": "execute_result",
          "data": {
            "text/plain": [
              "ItemLists;\n",
              "\n",
              "Train: ImageList (60000 items)\n",
              "Image (1, 28, 28),Image (1, 28, 28),Image (1, 28, 28),Image (1, 28, 28),Image (1, 28, 28)\n",
              "Path: /root/.fastai/data/mnist_png;\n",
              "\n",
              "Valid: ImageList (10000 items)\n",
              "Image (1, 28, 28),Image (1, 28, 28),Image (1, 28, 28),Image (1, 28, 28),Image (1, 28, 28)\n",
              "Path: /root/.fastai/data/mnist_png;\n",
              "\n",
              "Test: None"
            ]
          },
          "metadata": {
            "tags": []
          },
          "execution_count": 12
        }
      ]
    },
    {
      "cell_type": "code",
      "metadata": {
        "id": "jiQeCWkyf-gJ",
        "colab_type": "code",
        "colab": {}
      },
      "source": [
        "ll = sd.label_from_folder()"
      ],
      "execution_count": 0,
      "outputs": []
    },
    {
      "cell_type": "code",
      "metadata": {
        "id": "9art9b3UgMwu",
        "colab_type": "code",
        "colab": {}
      },
      "source": [
        "x,y = ll.train[0]"
      ],
      "execution_count": 0,
      "outputs": []
    },
    {
      "cell_type": "code",
      "metadata": {
        "id": "Nod4MCLWgULW",
        "colab_type": "code",
        "outputId": "32a6969a-4bb2-415d-c295-87e7597b29d8",
        "colab": {
          "base_uri": "https://localhost:8080/",
          "height": 211
        }
      },
      "source": [
        "x.show()\n",
        "print(y)"
      ],
      "execution_count": 0,
      "outputs": [
        {
          "output_type": "stream",
          "text": [
            "3\n"
          ],
          "name": "stdout"
        },
        {
          "output_type": "display_data",
          "data": {
            "image/png": "[encoded data removed]",
            "text/plain": [
              "<Figure size 216x216 with 1 Axes>"
            ]
          },
          "metadata": {
            "tags": []
          }
        }
      ]
    },
    {
      "cell_type": "code",
      "metadata": {
        "id": "zNAMVsFQjc2K",
        "colab_type": "code",
        "colab": {}
      },
      "source": [
        "tfms = ([*rand_pad(padding=2, size=32, mode='zeros')], [*rand_pad(padding=2, size=32, mode='zeros')])"
      ],
      "execution_count": 0,
      "outputs": []
    },
    {
      "cell_type": "code",
      "metadata": {
        "id": "dLA9cXp-jejv",
        "colab_type": "code",
        "outputId": "f33c5da7-968b-4f57-dcd9-97cd7f3d36a6",
        "colab": {
          "base_uri": "https://localhost:8080/",
          "height": 306
        }
      },
      "source": [
        "ll.transform(tfms)"
      ],
      "execution_count": 0,
      "outputs": [
        {
          "output_type": "execute_result",
          "data": {
            "text/plain": [
              "LabelLists;\n",
              "\n",
              "Train: LabelList (60000 items)\n",
              "x: ImageList\n",
              "Image (1, 32, 32),Image (1, 32, 32),Image (1, 32, 32),Image (1, 32, 32),Image (1, 32, 32)\n",
              "y: CategoryList\n",
              "3,3,3,3,3\n",
              "Path: /root/.fastai/data/mnist_png;\n",
              "\n",
              "Valid: LabelList (10000 items)\n",
              "x: ImageList\n",
              "Image (1, 32, 32),Image (1, 32, 32),Image (1, 32, 32),Image (1, 32, 32),Image (1, 32, 32)\n",
              "y: CategoryList\n",
              "3,3,3,3,3\n",
              "Path: /root/.fastai/data/mnist_png;\n",
              "\n",
              "Test: None"
            ]
          },
          "metadata": {
            "tags": []
          },
          "execution_count": 17
        }
      ]
    },
    {
      "cell_type": "code",
      "metadata": {
        "id": "4LD2uTYfjwDh",
        "colab_type": "code",
        "outputId": "1786bcb5-d156-4c91-b8c4-1b04533063bd",
        "colab": {
          "base_uri": "https://localhost:8080/",
          "height": 119
        }
      },
      "source": [
        "bs = 128\n",
        "ll.valid"
      ],
      "execution_count": 0,
      "outputs": [
        {
          "output_type": "execute_result",
          "data": {
            "text/plain": [
              "LabelList (10000 items)\n",
              "x: ImageList\n",
              "Image (1, 32, 32),Image (1, 32, 32),Image (1, 32, 32),Image (1, 32, 32),Image (1, 32, 32)\n",
              "y: CategoryList\n",
              "3,3,3,3,3\n",
              "Path: /root/.fastai/data/mnist_png"
            ]
          },
          "metadata": {
            "tags": []
          },
          "execution_count": 18
        }
      ]
    },
    {
      "cell_type": "code",
      "metadata": {
        "id": "ypucpcAsjkSH",
        "colab_type": "code",
        "colab": {}
      },
      "source": [
        "data = ll.databunch(bs=bs).normalize()"
      ],
      "execution_count": 0,
      "outputs": []
    },
    {
      "cell_type": "code",
      "metadata": {
        "id": "pgtIg8Ikj2Ir",
        "colab_type": "code",
        "colab": {}
      },
      "source": [
        "x,y = data.train_ds[0]"
      ],
      "execution_count": 0,
      "outputs": []
    },
    {
      "cell_type": "code",
      "metadata": {
        "id": "NzMqtn8Hj3RA",
        "colab_type": "code",
        "outputId": "6a899bd1-341b-4ee4-a9a4-34f77ecc541d",
        "colab": {
          "base_uri": "https://localhost:8080/",
          "height": 211
        }
      },
      "source": [
        "x.show()\n",
        "print(y)"
      ],
      "execution_count": 0,
      "outputs": [
        {
          "output_type": "stream",
          "text": [
            "3\n"
          ],
          "name": "stdout"
        },
        {
          "output_type": "display_data",
          "data": {
            "image/png": "[encoded data removed]",
            "text/plain": [
              "<Figure size 216x216 with 1 Axes>"
            ]
          },
          "metadata": {
            "tags": []
          }
        }
      ]
    },
    {
      "cell_type": "code",
      "metadata": {
        "id": "aaFD_HpKkIe3",
        "colab_type": "code",
        "outputId": "404d7bc2-61c3-4338-fba1-20587ea12f2a",
        "colab": {
          "base_uri": "https://localhost:8080/",
          "height": 466
        }
      },
      "source": [
        "\n",
        "def _plot(i,j,ax): data.train_ds[0][0].show(ax, cmap='gray')\n",
        "plot_multi(_plot, 3, 3, figsize=(8,8))"
      ],
      "execution_count": 0,
      "outputs": [
        {
          "output_type": "display_data",
          "data": {
            "image/png": "[encoded data removed]",
            "text/plain": [
              "<Figure size 576x576 with 9 Axes>"
            ]
          },
          "metadata": {
            "tags": []
          }
        }
      ]
    },
    {
      "cell_type": "code",
      "metadata": {
        "id": "NlKv3WWQkMr-",
        "colab_type": "code",
        "outputId": "e3d48954-1bdb-4161-cdbb-d703d503a42f",
        "colab": {
          "base_uri": "https://localhost:8080/",
          "height": 34
        }
      },
      "source": [
        "\n",
        "xb,yb = data.one_batch()\n",
        "xb.shape,yb.shape"
      ],
      "execution_count": 0,
      "outputs": [
        {
          "output_type": "execute_result",
          "data": {
            "text/plain": [
              "(torch.Size([128, 1, 32, 32]), torch.Size([128]))"
            ]
          },
          "metadata": {
            "tags": []
          },
          "execution_count": 23
        }
      ]
    },
    {
      "cell_type": "code",
      "metadata": {
        "id": "L9Xq0658kO8x",
        "colab_type": "code",
        "outputId": "8779206f-1007-4d8c-fa2d-5f5a04c331af",
        "colab": {
          "base_uri": "https://localhost:8080/",
          "height": 369
        }
      },
      "source": [
        "data.show_batch(rows=3, figsize=(5,5))"
      ],
      "execution_count": 0,
      "outputs": [
        {
          "output_type": "display_data",
          "data": {
            "image/png": "[encoded data removed]",
            "text/plain": [
              "<Figure size 360x360 with 9 Axes>"
            ]
          },
          "metadata": {
            "tags": []
          }
        }
      ]
    },
    {
      "cell_type": "markdown",
      "metadata": {
        "id": "i7kAjZfxscQg",
        "colab_type": "text"
      },
      "source": [
        "LeNet Architecture"
      ]
    },
    {
      "cell_type": "code",
      "metadata": {
        "id": "lyNiVYFbkg28",
        "colab_type": "code",
        "colab": {}
      },
      "source": [
        "model = nn.Sequential(\n",
        "    nn.Conv2d(1,6,kernel_size=5, stride = 1,padding = 0),\n",
        "    #nn.Tanh(),\n",
        "    nn.ReLU(),\n",
        "    nn.AvgPool2d(kernel_size=(2,2),stride = 2),\n",
        "    nn.Conv2d(6,16,kernel_size=(5,5), stride = 1),\n",
        "    #nn.Tanh(),\n",
        "    nn.ReLU(),\n",
        "    nn.AvgPool2d(kernel_size=(2,2)),\n",
        "    nn.Conv2d(16,120,kernel_size=(5,5), stride = 1),\n",
        "    #nn.Tanh(),\n",
        "    nn.ReLU(),\n",
        "    Flatten(),\n",
        "    nn.Linear(120,84),\n",
        "    #nn.Tanh(),\n",
        "    nn.ReLU(),\n",
        "    nn.Linear(84,10),\n",
        "    nn.Softmax(dim=1)\n",
        "\n",
        "\n",
        ")"
      ],
      "execution_count": 0,
      "outputs": []
    },
    {
      "cell_type": "code",
      "metadata": {
        "id": "HbCnHMLJmdzu",
        "colab_type": "code",
        "colab": {}
      },
      "source": [
        "\n",
        "learn = Learner(data, model, loss_func = nn.CrossEntropyLoss(), metrics=[accuracy, error_rate])"
      ],
      "execution_count": 0,
      "outputs": []
    },
    {
      "cell_type": "code",
      "metadata": {
        "id": "sZ_niiUEmfyi",
        "colab_type": "code",
        "outputId": "f4d09ecf-7606-4011-88e0-3ea1362cbbdd",
        "colab": {
          "base_uri": "https://localhost:8080/",
          "height": 680
        }
      },
      "source": [
        "learn.summary()"
      ],
      "execution_count": 0,
      "outputs": [
        {
          "output_type": "execute_result",
          "data": {
            "text/plain": [
              "Sequential\n",
              "======================================================================\n",
              "Layer (type)         Output Shape         Param #    Trainable \n",
              "======================================================================\n",
              "Conv2d               [6, 28, 28]          156        True      \n",
              "______________________________________________________________________\n",
              "ReLU                 [6, 28, 28]          0          False     \n",
              "______________________________________________________________________\n",
              "AvgPool2d            [6, 14, 14]          0          False     \n",
              "______________________________________________________________________\n",
              "Conv2d               [16, 10, 10]         2,416      True      \n",
              "______________________________________________________________________\n",
              "ReLU                 [16, 10, 10]         0          False     \n",
              "______________________________________________________________________\n",
              "AvgPool2d            [16, 5, 5]           0          False     \n",
              "______________________________________________________________________\n",
              "Conv2d               [120, 1, 1]          48,120     True      \n",
              "______________________________________________________________________\n",
              "ReLU                 [120, 1, 1]          0          False     \n",
              "______________________________________________________________________\n",
              "Flatten              [120]                0          False     \n",
              "______________________________________________________________________\n",
              "Linear               [84]                 10,164     True      \n",
              "______________________________________________________________________\n",
              "ReLU                 [84]                 0          False     \n",
              "______________________________________________________________________\n",
              "Linear               [10]                 850        True      \n",
              "______________________________________________________________________\n",
              "Softmax              [10]                 0          False     \n",
              "______________________________________________________________________\n",
              "\n",
              "Total params: 61,706\n",
              "Total trainable params: 61,706\n",
              "Total non-trainable params: 0\n",
              "Optimized with 'torch.optim.adam.Adam', betas=(0.9, 0.99)\n",
              "Using true weight decay as discussed in https://www.fast.ai/2018/07/02/adam-weight-decay/ \n",
              "Loss function : CrossEntropyLoss\n",
              "======================================================================\n",
              "Callbacks functions applied "
            ]
          },
          "metadata": {
            "tags": []
          },
          "execution_count": 27
        }
      ]
    },
    {
      "cell_type": "code",
      "metadata": {
        "id": "q6oINsWQoZpv",
        "colab_type": "code",
        "colab": {}
      },
      "source": [
        "xb = xb.cuda()"
      ],
      "execution_count": 0,
      "outputs": []
    },
    {
      "cell_type": "code",
      "metadata": {
        "id": "74x2OxcWobT4",
        "colab_type": "code",
        "outputId": "82366ec9-ef28-409c-8204-87b339dd71ae",
        "colab": {
          "base_uri": "https://localhost:8080/",
          "height": 34
        }
      },
      "source": [
        "model(xb).shape"
      ],
      "execution_count": 0,
      "outputs": [
        {
          "output_type": "execute_result",
          "data": {
            "text/plain": [
              "torch.Size([128, 10])"
            ]
          },
          "metadata": {
            "tags": []
          },
          "execution_count": 29
        }
      ]
    },
    {
      "cell_type": "code",
      "metadata": {
        "id": "nYuvvqT3o28e",
        "colab_type": "code",
        "outputId": "fb490a7f-9751-4dcf-ecd6-96c7a5c2f89d",
        "colab": {
          "base_uri": "https://localhost:8080/",
          "height": 112
        }
      },
      "source": [
        "learn.lr_find()"
      ],
      "execution_count": 0,
      "outputs": [
        {
          "output_type": "display_data",
          "data": {
            "text/html": [
              "\n",
              "    <div>\n",
              "        <style>\n",
              "            /* Turns off some styling */\n",
              "            progress {\n",
              "                /* gets rid of default border in Firefox and Opera. */\n",
              "                border: none;\n",
              "                /* Needs to be in here for Safari polyfill so background images work as expected. */\n",
              "                background-size: auto;\n",
              "            }\n",
              "            .progress-bar-interrupted, .progress-bar-interrupted::-webkit-progress-bar {\n",
              "                background: #F44336;\n",
              "            }\n",
              "        </style>\n",
              "      <progress value='0' class='' max='1', style='width:300px; height:20px; vertical-align: middle;'></progress>\n",
              "      0.00% [0/1 00:00<00:00]\n",
              "    </div>\n",
              "    \n",
              "<table border=\"1\" class=\"dataframe\">\n",
              "  <thead>\n",
              "    <tr style=\"text-align: left;\">\n",
              "      <th>epoch</th>\n",
              "      <th>train_loss</th>\n",
              "      <th>valid_loss</th>\n",
              "      <th>accuracy</th>\n",
              "      <th>error_rate</th>\n",
              "      <th>time</th>\n",
              "    </tr>\n",
              "  </thead>\n",
              "  <tbody>\n",
              "  </tbody>\n",
              "</table><p>\n",
              "\n",
              "    <div>\n",
              "        <style>\n",
              "            /* Turns off some styling */\n",
              "            progress {\n",
              "                /* gets rid of default border in Firefox and Opera. */\n",
              "                border: none;\n",
              "                /* Needs to be in here for Safari polyfill so background images work as expected. */\n",
              "                background-size: auto;\n",
              "            }\n",
              "            .progress-bar-interrupted, .progress-bar-interrupted::-webkit-progress-bar {\n",
              "                background: #F44336;\n",
              "            }\n",
              "        </style>\n",
              "      <progress value='99' class='' max='468', style='width:300px; height:20px; vertical-align: middle;'></progress>\n",
              "      21.15% [99/468 00:05<00:19 2.2592]\n",
              "    </div>\n",
              "    "
            ],
            "text/plain": [
              "<IPython.core.display.HTML object>"
            ]
          },
          "metadata": {
            "tags": []
          }
        },
        {
          "output_type": "stream",
          "text": [
            "LR Finder is complete, type {learner_name}.recorder.plot() to see the graph.\n"
          ],
          "name": "stdout"
        }
      ]
    },
    {
      "cell_type": "code",
      "metadata": {
        "id": "wqptmWkOo5r-",
        "colab_type": "code",
        "outputId": "2de0f0a0-2bdd-4a7b-a21d-02a77cefd063",
        "colab": {
          "base_uri": "https://localhost:8080/",
          "height": 279
        }
      },
      "source": [
        "learn.recorder.plot()"
      ],
      "execution_count": 0,
      "outputs": [
        {
          "output_type": "display_data",
          "data": {
            "image/png": "[encoded data removed]",
            "text/plain": [
              "<Figure size 432x288 with 1 Axes>"
            ]
          },
          "metadata": {
            "tags": []
          }
        }
      ]
    },
    {
      "cell_type": "code",
      "metadata": {
        "id": "y3R6fCQZo-k_",
        "colab_type": "code",
        "outputId": "63a6b8ab-e02f-4481-ffb6-9bd7b090a189",
        "colab": {
          "base_uri": "https://localhost:8080/",
          "height": 204
        }
      },
      "source": [
        "learn.fit_one_cycle(5, 1e-03)"
      ],
      "execution_count": 0,
      "outputs": [
        {
          "output_type": "display_data",
          "data": {
            "text/html": [
              "<table border=\"1\" class=\"dataframe\">\n",
              "  <thead>\n",
              "    <tr style=\"text-align: left;\">\n",
              "      <th>epoch</th>\n",
              "      <th>train_loss</th>\n",
              "      <th>valid_loss</th>\n",
              "      <th>accuracy</th>\n",
              "      <th>error_rate</th>\n",
              "      <th>time</th>\n",
              "    </tr>\n",
              "  </thead>\n",
              "  <tbody>\n",
              "    <tr>\n",
              "      <td>0</td>\n",
              "      <td>1.717703</td>\n",
              "      <td>1.719265</td>\n",
              "      <td>0.746200</td>\n",
              "      <td>0.253800</td>\n",
              "      <td>00:26</td>\n",
              "    </tr>\n",
              "    <tr>\n",
              "      <td>1</td>\n",
              "      <td>1.685575</td>\n",
              "      <td>1.624430</td>\n",
              "      <td>0.842300</td>\n",
              "      <td>0.157700</td>\n",
              "      <td>00:26</td>\n",
              "    </tr>\n",
              "    <tr>\n",
              "      <td>2</td>\n",
              "      <td>1.500369</td>\n",
              "      <td>1.493217</td>\n",
              "      <td>0.971100</td>\n",
              "      <td>0.028900</td>\n",
              "      <td>00:26</td>\n",
              "    </tr>\n",
              "    <tr>\n",
              "      <td>3</td>\n",
              "      <td>1.487058</td>\n",
              "      <td>1.485924</td>\n",
              "      <td>0.976100</td>\n",
              "      <td>0.023900</td>\n",
              "      <td>00:25</td>\n",
              "    </tr>\n",
              "    <tr>\n",
              "      <td>4</td>\n",
              "      <td>1.483627</td>\n",
              "      <td>1.483636</td>\n",
              "      <td>0.978600</td>\n",
              "      <td>0.021400</td>\n",
              "      <td>00:26</td>\n",
              "    </tr>\n",
              "  </tbody>\n",
              "</table>"
            ],
            "text/plain": [
              "<IPython.core.display.HTML object>"
            ]
          },
          "metadata": {
            "tags": []
          }
        }
      ]
    },
    {
      "cell_type": "code",
      "metadata": {
        "id": "OrBEULd-D7lG",
        "colab_type": "code",
        "outputId": "87bd13b0-af7a-4fb8-b5fb-72f5ff6dfef6",
        "colab": {
          "base_uri": "https://localhost:8080/",
          "height": 339
        }
      },
      "source": [
        "learn.show_results(ds_type = DatasetType.Valid, rows=2, figsize=(5,5))\n"
      ],
      "execution_count": 0,
      "outputs": [
        {
          "output_type": "display_data",
          "data": {
            "image/png": "[encoded data removed]",
            "text/plain": [
              "<Figure size 360x360 with 4 Axes>"
            ]
          },
          "metadata": {
            "tags": []
          }
        }
      ]
    },
    {
      "cell_type": "code",
      "metadata": {
        "id": "6hNiLmn3yhGH",
        "colab_type": "code",
        "colab": {}
      },
      "source": [
        "learn.save('leNet5-MSELoss')"
      ],
      "execution_count": 0,
      "outputs": []
    },
    {
      "cell_type": "code",
      "metadata": {
        "id": "Ks8XCzlcIlq3",
        "colab_type": "code",
        "outputId": "6a417de6-fd31-4131-d5a9-980eadb11fcb",
        "colab": {
          "base_uri": "https://localhost:8080/",
          "height": 311
        }
      },
      "source": [
        "interp = ClassificationInterpretation.from_learner(learn)\n",
        "interp.plot_confusion_matrix()"
      ],
      "execution_count": 0,
      "outputs": [
        {
          "output_type": "display_data",
          "data": {
            "text/html": [
              ""
            ],
            "text/plain": [
              "<IPython.core.display.HTML object>"
            ]
          },
          "metadata": {
            "tags": []
          }
        },
        {
          "output_type": "display_data",
          "data": {
            "image/png": "[encoded data removed]",
            "text/plain": [
              "<Figure size 432x288 with 1 Axes>"
            ]
          },
          "metadata": {
            "tags": []
          }
        }
      ]
    },
    {
      "cell_type": "code",
      "metadata": {
        "id": "tGdslAFhI95G",
        "colab_type": "code",
        "outputId": "15d7afd0-df51-494c-a7ad-ce1826534207",
        "colab": {
          "base_uri": "https://localhost:8080/",
          "height": 969
        }
      },
      "source": [
        "interp.most_confused()"
      ],
      "execution_count": 0,
      "outputs": [
        {
          "output_type": "execute_result",
          "data": {
            "text/plain": [
              "[('5', '3', 16),\n",
              " ('7', '2', 8),\n",
              " ('9', '4', 8),\n",
              " ('9', '7', 8),\n",
              " ('4', '9', 7),\n",
              " ('8', '0', 7),\n",
              " ('8', '2', 7),\n",
              " ('9', '1', 7),\n",
              " ('9', '8', 7),\n",
              " ('3', '7', 6),\n",
              " ('3', '8', 6),\n",
              " ('6', '0', 6),\n",
              " ('9', '0', 6),\n",
              " ('9', '3', 6),\n",
              " ('2', '3', 5),\n",
              " ('2', '8', 5),\n",
              " ('6', '5', 5),\n",
              " ('7', '9', 5),\n",
              " ('1', '2', 4),\n",
              " ('3', '5', 4),\n",
              " ('4', '6', 4),\n",
              " ('5', '0', 4),\n",
              " ('8', '3', 4),\n",
              " ('0', '6', 3),\n",
              " ('2', '0', 3),\n",
              " ('3', '2', 3),\n",
              " ('4', '2', 3),\n",
              " ('4', '7', 3),\n",
              " ('5', '6', 3),\n",
              " ('5', '8', 3),\n",
              " ('6', '1', 3),\n",
              " ('6', '8', 3),\n",
              " ('7', '3', 3),\n",
              " ('8', '4', 3),\n",
              " ('9', '5', 3),\n",
              " ('0', '2', 2),\n",
              " ('0', '8', 2),\n",
              " ('1', '8', 2),\n",
              " ('2', '1', 2),\n",
              " ('4', '8', 2),\n",
              " ('5', '9', 2),\n",
              " ('7', '0', 2),\n",
              " ('7', '1', 2),\n",
              " ('7', '8', 2),\n",
              " ('8', '5', 2),\n",
              " ('8', '7', 2),\n",
              " ('8', '9', 2),\n",
              " ('0', '7', 1),\n",
              " ('1', '5', 1),\n",
              " ('1', '6', 1),\n",
              " ('2', '7', 1),\n",
              " ('3', '9', 1),\n",
              " ('4', '0', 1),\n",
              " ('6', '4', 1),\n",
              " ('7', '5', 1),\n",
              " ('8', '6', 1)]"
            ]
          },
          "metadata": {
            "tags": []
          },
          "execution_count": 36
        }
      ]
    },
    {
      "cell_type": "code",
      "metadata": {
        "id": "hvas8R2iKGwK",
        "colab_type": "code",
        "colab": {}
      },
      "source": [
        "loses, idx = interp.top_losses()"
      ],
      "execution_count": 0,
      "outputs": []
    },
    {
      "cell_type": "code",
      "metadata": {
        "id": "xZ1c2aT9KSvA",
        "colab_type": "code",
        "colab": {}
      },
      "source": [
        "x, y = data.valid_ds[idx[11]]"
      ],
      "execution_count": 0,
      "outputs": []
    },
    {
      "cell_type": "code",
      "metadata": {
        "id": "u4eDx8n5LGF1",
        "colab_type": "code",
        "outputId": "9fa882b5-dd5e-43f8-c9bf-4a4332291a11",
        "colab": {
          "base_uri": "https://localhost:8080/",
          "height": 245
        }
      },
      "source": [
        "#data.valid_ds[6326][0].show()\n",
        "x.show()\n",
        "print(learn.predict(x))\n",
        "print(y)\n"
      ],
      "execution_count": 0,
      "outputs": [
        {
          "output_type": "stream",
          "text": [
            "(Category 3, tensor(3), tensor([0.0853, 0.0853, 0.0853, 0.2320, 0.0853, 0.0853, 0.0853, 0.0853, 0.0853,\n",
            "        0.0853]))\n",
            "2\n"
          ],
          "name": "stdout"
        },
        {
          "output_type": "display_data",
          "data": {
            "image/png": "[encoded data removed]",
            "text/plain": [
              "<Figure size 216x216 with 1 Axes>"
            ]
          },
          "metadata": {
            "tags": []
          }
        }
      ]
    },
    {
      "cell_type": "code",
      "metadata": {
        "id": "NOcnBbti43gQ",
        "colab_type": "code",
        "colab": {}
      },
      "source": [
        ""
      ],
      "execution_count": 0,
      "outputs": []
    }
  ]
}