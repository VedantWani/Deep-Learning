{
  "nbformat": 4,
  "nbformat_minor": 0,
  "metadata": {
    "colab": {
      "name": "Autoencoder.ipynb",
      "provenance": [],
      "collapsed_sections": [],
      "authorship_tag": "ABX9TyPWobZtTGBfGgZUHfXCEutK",
      "include_colab_link": true
    },
    "kernelspec": {
      "name": "python3",
      "display_name": "Python 3"
    },
    "accelerator": "GPU"
  },
  "cells": [
    {
      "cell_type": "markdown",
      "metadata": {
        "id": "view-in-github",
        "colab_type": "text"
      },
      "source": [
        "<a href=\"https://colab.research.google.com/github/VedantWani/Deep-Learning/blob/master/Autoencoder.ipynb\" target=\"_parent\"><img src=\"https://colab.research.google.com/assets/colab-badge.svg\" alt=\"Open In Colab\"/></a>"
      ]
    },
    {
      "cell_type": "markdown",
      "metadata": {
        "id": "vnX39ZB4ZLUI",
        "colab_type": "text"
      },
      "source": [
        "### **AutoEncoder**"
      ]
    },
    {
      "cell_type": "code",
      "metadata": {
        "id": "1EuEU8HU9QQt",
        "colab_type": "code",
        "colab": {}
      },
      "source": [
        "import tensorflow as tf\n",
        "\n",
        "\n",
        "from tensorflow.keras import datasets, layers, models\n",
        "from tensorflow.keras import Model\n",
        "from tensorflow.keras.layers import Conv2D, MaxPool2D, Conv2DTranspose, UpSampling2D, Dense, Flatten, Softmax\n",
        "from tensorflow import keras\n",
        "\n",
        "\n",
        "import matplotlib.pyplot as plt\n",
        "import numpy as np\n"
      ],
      "execution_count": 0,
      "outputs": []
    },
    {
      "cell_type": "code",
      "metadata": {
        "id": "nfqc0O_kDyQD",
        "colab_type": "code",
        "outputId": "d40a5bdb-ea37-45a6-b82f-fd7a9ee7267e",
        "colab": {
          "base_uri": "https://localhost:8080/",
          "height": 34
        }
      },
      "source": [
        "tf.config.experimental.list_physical_devices('GPU')\n",
        "\n"
      ],
      "execution_count": 0,
      "outputs": [
        {
          "output_type": "execute_result",
          "data": {
            "text/plain": [
              "[PhysicalDevice(name='/physical_device:GPU:0', device_type='GPU')]"
            ]
          },
          "metadata": {
            "tags": []
          },
          "execution_count": 3
        }
      ]
    },
    {
      "cell_type": "code",
      "metadata": {
        "id": "eBp9yjNDB3my",
        "colab_type": "code",
        "outputId": "1e886d54-34c7-4702-e44d-38a7769e7eb8",
        "colab": {
          "base_uri": "https://localhost:8080/",
          "height": 51
        }
      },
      "source": [
        "(x_train, y_train), (x_test, y_test) = datasets.mnist.load_data()\n",
        "\n",
        "x_train = x_train[..., tf.newaxis] / 255.0\n",
        "x_test = x_test[...,tf.newaxis] / 255.0"
      ],
      "execution_count": 0,
      "outputs": [
        {
          "output_type": "stream",
          "text": [
            "Downloading data from https://storage.googleapis.com/tensorflow/tf-keras-datasets/mnist.npz\n",
            "11493376/11490434 [==============================] - 0s 0us/step\n"
          ],
          "name": "stdout"
        }
      ]
    },
    {
      "cell_type": "code",
      "metadata": {
        "id": "jFie2hgAOs5y",
        "colab_type": "code",
        "colab": {}
      },
      "source": [
        "def show_image(image,figsize):\n",
        "  plt.figure(figsize=figsize)\n",
        "  ax = plt.subplot(1,1,1)\n",
        "  plt.imshow(image.squeeze(-1))\n",
        "  plt.gray()\n",
        "  ax.get_xaxis().set_visible(False)\n",
        "  ax.get_yaxis().set_visible(False)\n",
        "  plt.show()\n",
        "\n"
      ],
      "execution_count": 0,
      "outputs": []
    },
    {
      "cell_type": "code",
      "metadata": {
        "id": "1uYCRmmzP6KG",
        "colab_type": "code",
        "outputId": "43933528-a486-4aac-fcf8-80860b278dc9",
        "colab": {
          "base_uri": "https://localhost:8080/",
          "height": 306
        }
      },
      "source": [
        "show_image(x_train[0], figsize=(10,5))"
      ],
      "execution_count": 0,
      "outputs": [
        {
          "output_type": "display_data",
          "data": {
            "image/png": "[encoded data removed]",
            "text/plain": [
              "<Figure size 720x360 with 1 Axes>"
            ]
          },
          "metadata": {
            "tags": [],
            "needs_background": "light"
          }
        }
      ]
    },
    {
      "cell_type": "code",
      "metadata": {
        "id": "rRUwEKaUMsz_",
        "colab_type": "code",
        "colab": {}
      },
      "source": [
        "noise_scale = 0.5\n",
        "\n",
        "x_train_noise  = x_train + noise_scale * np.random.standard_normal(size=x_train.shape)\n",
        "x_test_noise  = x_test + noise_scale * np.random.standard_normal(size=x_test.shape)\n",
        "\n",
        "x_train_noise = x_train_noise.clip(min = 0., max = 1.)\n",
        "x_test_noise = x_test_noise.clip(min = 0., max=1.)"
      ],
      "execution_count": 0,
      "outputs": []
    },
    {
      "cell_type": "code",
      "metadata": {
        "id": "ebHu3dXXSJTr",
        "colab_type": "code",
        "outputId": "55289c02-d673-42f6-d4b4-7a084a68dd67",
        "colab": {
          "base_uri": "https://localhost:8080/",
          "height": 306
        }
      },
      "source": [
        "show_image(x_train_noise[0], figsize=(20,5))"
      ],
      "execution_count": 0,
      "outputs": [
        {
          "output_type": "display_data",
          "data": {
            "image/png": "[encoded data removed]",
            "text/plain": [
              "<Figure size 1440x360 with 1 Axes>"
            ]
          },
          "metadata": {
            "tags": [],
            "needs_background": "light"
          }
        }
      ]
    },
    {
      "cell_type": "code",
      "metadata": {
        "id": "LUvYwIiLeNyN",
        "colab_type": "code",
        "colab": {}
      },
      "source": [
        "tf.keras.backend.set_floatx('float64')"
      ],
      "execution_count": 0,
      "outputs": []
    },
    {
      "cell_type": "code",
      "metadata": {
        "id": "1IgfHiKcTM_r",
        "colab_type": "code",
        "colab": {}
      },
      "source": [
        "class Encoder(Model):\n",
        "  def __init__(self):\n",
        "    super(Encoder, self).__init__()\n",
        "    self.conv1 = Conv2D(16,(3,3), activation='relu', padding = \"same\") \n",
        "    self.maxpool = MaxPool2D((2,2), strides = 2) \n",
        "    self.conv2 = Conv2D(32,(3,3), activation = 'relu', padding = \"same\") \n",
        "    self.conv3 = Conv2D(64,(3,3), activation = 'relu', padding = \"same\") \n",
        "    self.conv4 = Conv2D(128,(3,3), padding = \"same\") \n",
        "    \n",
        "  \n",
        "\n",
        "  def call(self,x):\n",
        "    x = self.conv1(x)#28*28*16\n",
        "    x = self.maxpool(x)#14*14*16\n",
        "    x = self.conv2(x)#14*14*32\n",
        "    x = self.maxpool(x)#7*7*32\n",
        "    x = self.conv3(x)#7*7*64\n",
        "    x = self.maxpool(x)#3*3*64\n",
        "    x = self.conv4(x)#3*3*128\n",
        "  \n",
        "    \n",
        "    \n",
        "    return x\n"
      ],
      "execution_count": 0,
      "outputs": []
    },
    {
      "cell_type": "code",
      "metadata": {
        "id": "K2AhmV7V223O",
        "colab_type": "code",
        "colab": {}
      },
      "source": [
        "class Decoder(Model):\n",
        "  def __init__(self):\n",
        "    super(Decoder, self).__init__()\n",
        "   \n",
        "    self.conv1 = Conv2D(128, (1,1), activation='relu', padding = 'same', strides =2)\n",
        "    self.upsample = UpSampling2D((2,2))\n",
        "    self.conv2 = Conv2D(64, (3,3), activation='relu', padding = 'same')\n",
        "    self.conv3 = Conv2D(16, (3,3), activation='relu', padding = 'same')\n",
        "    self.conv4 = Conv2D(16, (3,3), activation = 'relu', padding = 'same')\n",
        "    self.conv5 = Conv2D(8, (3,3), activation = 'relu', padding = 'same')\n",
        "    self.conv6 = Conv2D(1,(5,5), activation = 'sigmoid')\n",
        "    \n",
        "\n",
        "  def call(self,x):\n",
        "    x = self.conv1(x) #2*2*256\n",
        "    x = self.upsample(x) #4*4*256\n",
        "    x = self.conv2(x) #4*4*128\n",
        "    x = self.upsample(x) #8*8*128\n",
        "    x = self.conv3(x) #8*8*64\n",
        "    x = self.upsample(x) #16*16*64\n",
        "    x = self.conv4(x) #16*16*8\n",
        "    x = self.upsample(x) #32*32*8\n",
        "    x = self.conv5(x) #32*32*4\n",
        "    x = self.conv6(x)\n",
        "    return x"
      ],
      "execution_count": 0,
      "outputs": []
    },
    {
      "cell_type": "code",
      "metadata": {
        "id": "lDvAWRU6C1aJ",
        "colab_type": "code",
        "colab": {}
      },
      "source": [
        "class AutoEncoder(Model):\n",
        "  def __init__(self):\n",
        "    super(AutoEncoder, self).__init__()\n",
        "    self.encode = Encoder()\n",
        "    self.decode = Decoder()\n",
        "  \n",
        "  def call(self,x):\n",
        "    x = self.encode(x)\n",
        "    x = self.decode(x)\n",
        "    \n",
        "\n",
        "    return x\n",
        "\n"
      ],
      "execution_count": 0,
      "outputs": []
    },
    {
      "cell_type": "code",
      "metadata": {
        "id": "cC-t72Htb9hS",
        "colab_type": "code",
        "colab": {}
      },
      "source": [
        "model = AutoEncoder()"
      ],
      "execution_count": 0,
      "outputs": []
    },
    {
      "cell_type": "code",
      "metadata": {
        "id": "86wwj2hvsXjq",
        "colab_type": "code",
        "colab": {}
      },
      "source": [
        "optimizer =  keras.optimizers.Adam(lr=1e-3)\n",
        "model.compile(optimizer=optimizer,loss='binary_crossentropy')"
      ],
      "execution_count": 0,
      "outputs": []
    },
    {
      "cell_type": "code",
      "metadata": {
        "id": "f9Wxgwy0Fz93",
        "colab_type": "code",
        "outputId": "0dcc7f79-26db-450a-b471-db10e8ba7b84",
        "colab": {
          "base_uri": "https://localhost:8080/",
          "height": 1000
        }
      },
      "source": [
        "history = model.fit(x_train_noise, x_train,\n",
        "                epochs=200,\n",
        "                batch_size=128,\n",
        "                shuffle=True,\n",
        "                validation_data=(x_test_noise, x_test)\n",
        "                )"
      ],
      "execution_count": 0,
      "outputs": [
        {
          "output_type": "stream",
          "text": [
            "Epoch 1/200\n",
            "469/469 [==============================] - 6s 13ms/step - loss: 0.1973 - val_loss: 0.1353\n",
            "Epoch 2/200\n",
            "469/469 [==============================] - 6s 12ms/step - loss: 0.1279 - val_loss: 0.1206\n",
            "Epoch 3/200\n",
            "469/469 [==============================] - 6s 12ms/step - loss: 0.1175 - val_loss: 0.1155\n",
            "Epoch 4/200\n",
            "469/469 [==============================] - 6s 12ms/step - loss: 0.1121 - val_loss: 0.1108\n",
            "Epoch 5/200\n",
            "469/469 [==============================] - 6s 12ms/step - loss: 0.1087 - val_loss: 0.1071\n",
            "Epoch 6/200\n",
            "469/469 [==============================] - 6s 12ms/step - loss: 0.1064 - val_loss: 0.1047\n",
            "Epoch 7/200\n",
            "469/469 [==============================] - 6s 12ms/step - loss: 0.1046 - val_loss: 0.1032\n",
            "Epoch 8/200\n",
            "469/469 [==============================] - 6s 12ms/step - loss: 0.1032 - val_loss: 0.1026\n",
            "Epoch 9/200\n",
            "469/469 [==============================] - 6s 12ms/step - loss: 0.1021 - val_loss: 0.1014\n",
            "Epoch 10/200\n",
            "469/469 [==============================] - 6s 12ms/step - loss: 0.1013 - val_loss: 0.1010\n",
            "Epoch 11/200\n",
            "469/469 [==============================] - 6s 12ms/step - loss: 0.1003 - val_loss: 0.1003\n",
            "Epoch 12/200\n",
            "469/469 [==============================] - 6s 12ms/step - loss: 0.0998 - val_loss: 0.0996\n",
            "Epoch 13/200\n",
            "469/469 [==============================] - 6s 12ms/step - loss: 0.0990 - val_loss: 0.0989\n",
            "Epoch 14/200\n",
            "469/469 [==============================] - 6s 12ms/step - loss: 0.0985 - val_loss: 0.0983\n",
            "Epoch 15/200\n",
            "469/469 [==============================] - 6s 12ms/step - loss: 0.0981 - val_loss: 0.0980\n",
            "Epoch 16/200\n",
            "469/469 [==============================] - 6s 12ms/step - loss: 0.0975 - val_loss: 0.0982\n",
            "Epoch 17/200\n",
            "469/469 [==============================] - 6s 12ms/step - loss: 0.0971 - val_loss: 0.0977\n",
            "Epoch 18/200\n",
            "469/469 [==============================] - 6s 12ms/step - loss: 0.0969 - val_loss: 0.0973\n",
            "Epoch 19/200\n",
            "469/469 [==============================] - 6s 12ms/step - loss: 0.0965 - val_loss: 0.0973\n",
            "Epoch 20/200\n",
            "469/469 [==============================] - 6s 12ms/step - loss: 0.0961 - val_loss: 0.0967\n",
            "Epoch 21/200\n",
            "469/469 [==============================] - 6s 12ms/step - loss: 0.0959 - val_loss: 0.0965\n",
            "Epoch 22/200\n",
            "469/469 [==============================] - 6s 12ms/step - loss: 0.0957 - val_loss: 0.0965\n",
            "Epoch 23/200\n",
            "469/469 [==============================] - 6s 12ms/step - loss: 0.0954 - val_loss: 0.0965\n",
            "Epoch 24/200\n",
            "469/469 [==============================] - 6s 12ms/step - loss: 0.0952 - val_loss: 0.0959\n",
            "Epoch 25/200\n",
            "469/469 [==============================] - 6s 12ms/step - loss: 0.0949 - val_loss: 0.0960\n",
            "Epoch 26/200\n",
            "469/469 [==============================] - 6s 12ms/step - loss: 0.0948 - val_loss: 0.0967\n",
            "Epoch 27/200\n",
            "469/469 [==============================] - 6s 12ms/step - loss: 0.0946 - val_loss: 0.0957\n",
            "Epoch 28/200\n",
            "469/469 [==============================] - 6s 12ms/step - loss: 0.0945 - val_loss: 0.0958\n",
            "Epoch 29/200\n",
            "469/469 [==============================] - 6s 12ms/step - loss: 0.0942 - val_loss: 0.0957\n",
            "Epoch 30/200\n",
            "469/469 [==============================] - 6s 12ms/step - loss: 0.0940 - val_loss: 0.0954\n",
            "Epoch 31/200\n",
            "469/469 [==============================] - 6s 12ms/step - loss: 0.0940 - val_loss: 0.0960\n",
            "Epoch 32/200\n",
            "469/469 [==============================] - 6s 12ms/step - loss: 0.0937 - val_loss: 0.0964\n",
            "Epoch 33/200\n",
            "469/469 [==============================] - 6s 12ms/step - loss: 0.0938 - val_loss: 0.0953\n",
            "Epoch 34/200\n",
            "469/469 [==============================] - 6s 12ms/step - loss: 0.0935 - val_loss: 0.0950\n",
            "Epoch 35/200\n",
            "469/469 [==============================] - 6s 12ms/step - loss: 0.0935 - val_loss: 0.0953\n",
            "Epoch 36/200\n",
            "469/469 [==============================] - 6s 12ms/step - loss: 0.0933 - val_loss: 0.0955\n",
            "Epoch 37/200\n",
            "469/469 [==============================] - 6s 12ms/step - loss: 0.0933 - val_loss: 0.0957\n",
            "Epoch 38/200\n",
            "469/469 [==============================] - 6s 12ms/step - loss: 0.0931 - val_loss: 0.0947\n",
            "Epoch 39/200\n",
            "469/469 [==============================] - 6s 12ms/step - loss: 0.0930 - val_loss: 0.0950\n",
            "Epoch 40/200\n",
            "469/469 [==============================] - 6s 12ms/step - loss: 0.0929 - val_loss: 0.0963\n",
            "Epoch 41/200\n",
            "469/469 [==============================] - 6s 12ms/step - loss: 0.0928 - val_loss: 0.0951\n",
            "Epoch 42/200\n",
            "469/469 [==============================] - 6s 12ms/step - loss: 0.0927 - val_loss: 0.0950\n",
            "Epoch 43/200\n",
            "469/469 [==============================] - 6s 12ms/step - loss: 0.0927 - val_loss: 0.0951\n",
            "Epoch 44/200\n",
            "469/469 [==============================] - 6s 12ms/step - loss: 0.0926 - val_loss: 0.0950\n",
            "Epoch 45/200\n",
            "469/469 [==============================] - 6s 12ms/step - loss: 0.0925 - val_loss: 0.0954\n",
            "Epoch 46/200\n",
            "469/469 [==============================] - 6s 12ms/step - loss: 0.0924 - val_loss: 0.0946\n",
            "Epoch 47/200\n",
            "469/469 [==============================] - 6s 12ms/step - loss: 0.0923 - val_loss: 0.0949\n",
            "Epoch 48/200\n",
            "469/469 [==============================] - 6s 12ms/step - loss: 0.0923 - val_loss: 0.0951\n",
            "Epoch 49/200\n",
            "469/469 [==============================] - 6s 12ms/step - loss: 0.0922 - val_loss: 0.0951\n",
            "Epoch 50/200\n",
            "469/469 [==============================] - 6s 12ms/step - loss: 0.0922 - val_loss: 0.0947\n",
            "Epoch 51/200\n",
            "469/469 [==============================] - 6s 12ms/step - loss: 0.0921 - val_loss: 0.0947\n",
            "Epoch 52/200\n",
            "469/469 [==============================] - 6s 12ms/step - loss: 0.0920 - val_loss: 0.0945\n",
            "Epoch 53/200\n",
            "469/469 [==============================] - 6s 12ms/step - loss: 0.0919 - val_loss: 0.0945\n",
            "Epoch 54/200\n",
            "469/469 [==============================] - 6s 12ms/step - loss: 0.0919 - val_loss: 0.0948\n",
            "Epoch 55/200\n",
            "469/469 [==============================] - 6s 12ms/step - loss: 0.0918 - val_loss: 0.0948\n",
            "Epoch 56/200\n",
            "469/469 [==============================] - 6s 12ms/step - loss: 0.0917 - val_loss: 0.0943\n",
            "Epoch 57/200\n",
            "469/469 [==============================] - 6s 12ms/step - loss: 0.0917 - val_loss: 0.0945\n",
            "Epoch 58/200\n",
            "469/469 [==============================] - 6s 12ms/step - loss: 0.0917 - val_loss: 0.0945\n",
            "Epoch 59/200\n",
            "469/469 [==============================] - 6s 12ms/step - loss: 0.0915 - val_loss: 0.0946\n",
            "Epoch 60/200\n",
            "469/469 [==============================] - 6s 12ms/step - loss: 0.0916 - val_loss: 0.0946\n",
            "Epoch 61/200\n",
            "469/469 [==============================] - 6s 12ms/step - loss: 0.0915 - val_loss: 0.0944\n",
            "Epoch 62/200\n",
            "469/469 [==============================] - 6s 12ms/step - loss: 0.0914 - val_loss: 0.0942\n",
            "Epoch 63/200\n",
            "469/469 [==============================] - 6s 12ms/step - loss: 0.0914 - val_loss: 0.0948\n",
            "Epoch 64/200\n",
            "469/469 [==============================] - 6s 12ms/step - loss: 0.0913 - val_loss: 0.0943\n",
            "Epoch 65/200\n",
            "469/469 [==============================] - 6s 12ms/step - loss: 0.0913 - val_loss: 0.0946\n",
            "Epoch 66/200\n",
            "469/469 [==============================] - 6s 12ms/step - loss: 0.0913 - val_loss: 0.0948\n",
            "Epoch 67/200\n",
            "469/469 [==============================] - 6s 12ms/step - loss: 0.0912 - val_loss: 0.0943\n",
            "Epoch 68/200\n",
            "469/469 [==============================] - 6s 12ms/step - loss: 0.0911 - val_loss: 0.0947\n",
            "Epoch 69/200\n",
            "469/469 [==============================] - 6s 12ms/step - loss: 0.0911 - val_loss: 0.0945\n",
            "Epoch 70/200\n",
            "469/469 [==============================] - 6s 12ms/step - loss: 0.0911 - val_loss: 0.0945\n",
            "Epoch 71/200\n",
            "469/469 [==============================] - 6s 12ms/step - loss: 0.0910 - val_loss: 0.0943\n",
            "Epoch 72/200\n",
            "469/469 [==============================] - 6s 12ms/step - loss: 0.0910 - val_loss: 0.0942\n",
            "Epoch 73/200\n",
            "469/469 [==============================] - 6s 12ms/step - loss: 0.0910 - val_loss: 0.0945\n",
            "Epoch 74/200\n",
            "469/469 [==============================] - 6s 12ms/step - loss: 0.0909 - val_loss: 0.0942\n",
            "Epoch 75/200\n",
            "469/469 [==============================] - 6s 12ms/step - loss: 0.0909 - val_loss: 0.0944\n",
            "Epoch 76/200\n",
            "469/469 [==============================] - 6s 12ms/step - loss: 0.0908 - val_loss: 0.0943\n",
            "Epoch 77/200\n",
            "469/469 [==============================] - 6s 12ms/step - loss: 0.0908 - val_loss: 0.0947\n",
            "Epoch 78/200\n",
            "469/469 [==============================] - 6s 12ms/step - loss: 0.0907 - val_loss: 0.0945\n",
            "Epoch 79/200\n",
            "469/469 [==============================] - 6s 12ms/step - loss: 0.0908 - val_loss: 0.0947\n",
            "Epoch 80/200\n",
            "469/469 [==============================] - 6s 12ms/step - loss: 0.0907 - val_loss: 0.0949\n",
            "Epoch 81/200\n",
            "469/469 [==============================] - 6s 12ms/step - loss: 0.0907 - val_loss: 0.0948\n",
            "Epoch 82/200\n",
            "469/469 [==============================] - 6s 12ms/step - loss: 0.0906 - val_loss: 0.0947\n",
            "Epoch 83/200\n",
            "469/469 [==============================] - 6s 12ms/step - loss: 0.0906 - val_loss: 0.0940\n",
            "Epoch 84/200\n",
            "469/469 [==============================] - 6s 12ms/step - loss: 0.0906 - val_loss: 0.0944\n",
            "Epoch 85/200\n",
            "469/469 [==============================] - 6s 12ms/step - loss: 0.0905 - val_loss: 0.0942\n",
            "Epoch 86/200\n",
            "469/469 [==============================] - 6s 12ms/step - loss: 0.0904 - val_loss: 0.0953\n",
            "Epoch 87/200\n",
            "469/469 [==============================] - 6s 12ms/step - loss: 0.0905 - val_loss: 0.0942\n",
            "Epoch 88/200\n",
            "469/469 [==============================] - 6s 12ms/step - loss: 0.0904 - val_loss: 0.0944\n",
            "Epoch 89/200\n",
            "469/469 [==============================] - 6s 12ms/step - loss: 0.0904 - val_loss: 0.0947\n",
            "Epoch 90/200\n",
            "469/469 [==============================] - 6s 12ms/step - loss: 0.0903 - val_loss: 0.0942\n",
            "Epoch 91/200\n",
            "469/469 [==============================] - 6s 12ms/step - loss: 0.0903 - val_loss: 0.0949\n",
            "Epoch 92/200\n",
            "469/469 [==============================] - 6s 12ms/step - loss: 0.0903 - val_loss: 0.0945\n",
            "Epoch 93/200\n",
            "469/469 [==============================] - 6s 12ms/step - loss: 0.0903 - val_loss: 0.0952\n",
            "Epoch 94/200\n",
            "469/469 [==============================] - 6s 12ms/step - loss: 0.0902 - val_loss: 0.0948\n",
            "Epoch 95/200\n",
            "469/469 [==============================] - 6s 12ms/step - loss: 0.0902 - val_loss: 0.0943\n",
            "Epoch 96/200\n",
            "469/469 [==============================] - 6s 12ms/step - loss: 0.0902 - val_loss: 0.0950\n",
            "Epoch 97/200\n",
            "469/469 [==============================] - 6s 12ms/step - loss: 0.0902 - val_loss: 0.0946\n",
            "Epoch 98/200\n",
            "469/469 [==============================] - 6s 12ms/step - loss: 0.0902 - val_loss: 0.0944\n",
            "Epoch 99/200\n",
            "469/469 [==============================] - 6s 12ms/step - loss: 0.0901 - val_loss: 0.0950\n",
            "Epoch 100/200\n",
            "469/469 [==============================] - 6s 12ms/step - loss: 0.0901 - val_loss: 0.0943\n",
            "Epoch 101/200\n",
            "469/469 [==============================] - 6s 12ms/step - loss: 0.0901 - val_loss: 0.0945\n",
            "Epoch 102/200\n",
            "469/469 [==============================] - 6s 12ms/step - loss: 0.0901 - val_loss: 0.0946\n",
            "Epoch 103/200\n",
            "469/469 [==============================] - 6s 12ms/step - loss: 0.0900 - val_loss: 0.0949\n",
            "Epoch 104/200\n",
            "469/469 [==============================] - 6s 12ms/step - loss: 0.0901 - val_loss: 0.0948\n",
            "Epoch 105/200\n",
            "469/469 [==============================] - 6s 12ms/step - loss: 0.0900 - val_loss: 0.0952\n",
            "Epoch 106/200\n",
            "469/469 [==============================] - 6s 12ms/step - loss: 0.0900 - val_loss: 0.0945\n",
            "Epoch 107/200\n",
            "469/469 [==============================] - 6s 12ms/step - loss: 0.0900 - val_loss: 0.0947\n",
            "Epoch 108/200\n",
            "469/469 [==============================] - 6s 12ms/step - loss: 0.0899 - val_loss: 0.0946\n",
            "Epoch 109/200\n",
            "469/469 [==============================] - 6s 12ms/step - loss: 0.0899 - val_loss: 0.0948\n",
            "Epoch 110/200\n",
            "469/469 [==============================] - 6s 12ms/step - loss: 0.0898 - val_loss: 0.0943\n",
            "Epoch 111/200\n",
            "469/469 [==============================] - 6s 12ms/step - loss: 0.0899 - val_loss: 0.0945\n",
            "Epoch 112/200\n",
            "469/469 [==============================] - 6s 12ms/step - loss: 0.0898 - val_loss: 0.0942\n",
            "Epoch 113/200\n",
            "469/469 [==============================] - 6s 12ms/step - loss: 0.0899 - val_loss: 0.0947\n",
            "Epoch 114/200\n",
            "469/469 [==============================] - 6s 12ms/step - loss: 0.0898 - val_loss: 0.0945\n",
            "Epoch 115/200\n",
            "469/469 [==============================] - 6s 12ms/step - loss: 0.0898 - val_loss: 0.0943\n",
            "Epoch 116/200\n",
            "469/469 [==============================] - 6s 12ms/step - loss: 0.0898 - val_loss: 0.0944\n",
            "Epoch 117/200\n",
            "469/469 [==============================] - 6s 12ms/step - loss: 0.0897 - val_loss: 0.0947\n",
            "Epoch 118/200\n",
            "469/469 [==============================] - 6s 12ms/step - loss: 0.0898 - val_loss: 0.0946\n",
            "Epoch 119/200\n",
            "469/469 [==============================] - 6s 12ms/step - loss: 0.0897 - val_loss: 0.0944\n",
            "Epoch 120/200\n",
            "469/469 [==============================] - 6s 12ms/step - loss: 0.0896 - val_loss: 0.0951\n",
            "Epoch 121/200\n",
            "469/469 [==============================] - 6s 12ms/step - loss: 0.0897 - val_loss: 0.0945\n",
            "Epoch 122/200\n",
            "469/469 [==============================] - 6s 12ms/step - loss: 0.0897 - val_loss: 0.0951\n",
            "Epoch 123/200\n",
            "469/469 [==============================] - 6s 12ms/step - loss: 0.0896 - val_loss: 0.0946\n",
            "Epoch 124/200\n",
            "469/469 [==============================] - 6s 12ms/step - loss: 0.0895 - val_loss: 0.0944\n",
            "Epoch 125/200\n",
            "469/469 [==============================] - 6s 12ms/step - loss: 0.0896 - val_loss: 0.0943\n",
            "Epoch 126/200\n",
            "469/469 [==============================] - 6s 12ms/step - loss: 0.0895 - val_loss: 0.0945\n",
            "Epoch 127/200\n",
            "469/469 [==============================] - 6s 12ms/step - loss: 0.0895 - val_loss: 0.0944\n",
            "Epoch 128/200\n",
            "469/469 [==============================] - 6s 12ms/step - loss: 0.0895 - val_loss: 0.0945\n",
            "Epoch 129/200\n",
            "469/469 [==============================] - 6s 12ms/step - loss: 0.0895 - val_loss: 0.0945\n",
            "Epoch 130/200\n",
            "469/469 [==============================] - 6s 12ms/step - loss: 0.0894 - val_loss: 0.0944\n",
            "Epoch 131/200\n",
            "469/469 [==============================] - 6s 12ms/step - loss: 0.0894 - val_loss: 0.0945\n",
            "Epoch 132/200\n",
            "469/469 [==============================] - 6s 12ms/step - loss: 0.0894 - val_loss: 0.0945\n",
            "Epoch 133/200\n",
            "469/469 [==============================] - 6s 12ms/step - loss: 0.0895 - val_loss: 0.0948\n",
            "Epoch 134/200\n",
            "469/469 [==============================] - 6s 12ms/step - loss: 0.0894 - val_loss: 0.0947\n",
            "Epoch 135/200\n",
            "469/469 [==============================] - 6s 12ms/step - loss: 0.0894 - val_loss: 0.0949\n",
            "Epoch 136/200\n",
            "469/469 [==============================] - 6s 12ms/step - loss: 0.0894 - val_loss: 0.0944\n",
            "Epoch 137/200\n",
            "469/469 [==============================] - 6s 12ms/step - loss: 0.0894 - val_loss: 0.0946\n",
            "Epoch 138/200\n",
            "469/469 [==============================] - 6s 12ms/step - loss: 0.0893 - val_loss: 0.0946\n",
            "Epoch 139/200\n",
            "469/469 [==============================] - 6s 12ms/step - loss: 0.0893 - val_loss: 0.0944\n",
            "Epoch 140/200\n",
            "469/469 [==============================] - 6s 12ms/step - loss: 0.0893 - val_loss: 0.0951\n",
            "Epoch 141/200\n",
            "469/469 [==============================] - 6s 12ms/step - loss: 0.0893 - val_loss: 0.0957\n",
            "Epoch 142/200\n",
            "469/469 [==============================] - 6s 12ms/step - loss: 0.0893 - val_loss: 0.0949\n",
            "Epoch 143/200\n",
            "469/469 [==============================] - 6s 12ms/step - loss: 0.0892 - val_loss: 0.0944\n",
            "Epoch 144/200\n",
            "469/469 [==============================] - 6s 12ms/step - loss: 0.0892 - val_loss: 0.0944\n",
            "Epoch 145/200\n",
            "469/469 [==============================] - 6s 12ms/step - loss: 0.0892 - val_loss: 0.0947\n",
            "Epoch 146/200\n",
            "469/469 [==============================] - 6s 12ms/step - loss: 0.0893 - val_loss: 0.0944\n",
            "Epoch 147/200\n",
            "469/469 [==============================] - 6s 12ms/step - loss: 0.0892 - val_loss: 0.0953\n",
            "Epoch 148/200\n",
            "469/469 [==============================] - 6s 12ms/step - loss: 0.0892 - val_loss: 0.0946\n",
            "Epoch 149/200\n",
            "469/469 [==============================] - 6s 12ms/step - loss: 0.0892 - val_loss: 0.0946\n",
            "Epoch 150/200\n",
            "469/469 [==============================] - 6s 12ms/step - loss: 0.0891 - val_loss: 0.0945\n",
            "Epoch 151/200\n",
            "469/469 [==============================] - 6s 12ms/step - loss: 0.0891 - val_loss: 0.0946\n",
            "Epoch 152/200\n",
            "469/469 [==============================] - 6s 12ms/step - loss: 0.0891 - val_loss: 0.0944\n",
            "Epoch 153/200\n",
            "469/469 [==============================] - 6s 12ms/step - loss: 0.0892 - val_loss: 0.0947\n",
            "Epoch 154/200\n",
            "469/469 [==============================] - 6s 12ms/step - loss: 0.0891 - val_loss: 0.0947\n",
            "Epoch 155/200\n",
            "469/469 [==============================] - 6s 12ms/step - loss: 0.0891 - val_loss: 0.0948\n",
            "Epoch 156/200\n",
            "469/469 [==============================] - 6s 12ms/step - loss: 0.0891 - val_loss: 0.0944\n",
            "Epoch 157/200\n",
            "469/469 [==============================] - 6s 12ms/step - loss: 0.0890 - val_loss: 0.0952\n",
            "Epoch 158/200\n",
            "469/469 [==============================] - 6s 12ms/step - loss: 0.0891 - val_loss: 0.0949\n",
            "Epoch 159/200\n",
            "469/469 [==============================] - 6s 12ms/step - loss: 0.0890 - val_loss: 0.0949\n",
            "Epoch 160/200\n",
            "469/469 [==============================] - 6s 12ms/step - loss: 0.0890 - val_loss: 0.0950\n",
            "Epoch 161/200\n",
            "469/469 [==============================] - 6s 12ms/step - loss: 0.0890 - val_loss: 0.0945\n",
            "Epoch 162/200\n",
            "469/469 [==============================] - 6s 12ms/step - loss: 0.0890 - val_loss: 0.0944\n",
            "Epoch 163/200\n",
            "469/469 [==============================] - 6s 12ms/step - loss: 0.0889 - val_loss: 0.0945\n",
            "Epoch 164/200\n",
            "469/469 [==============================] - 6s 12ms/step - loss: 0.0890 - val_loss: 0.0951\n",
            "Epoch 165/200\n",
            "469/469 [==============================] - 6s 12ms/step - loss: 0.0890 - val_loss: 0.0947\n",
            "Epoch 166/200\n",
            "469/469 [==============================] - 6s 12ms/step - loss: 0.0889 - val_loss: 0.0949\n",
            "Epoch 167/200\n",
            "469/469 [==============================] - 6s 12ms/step - loss: 0.0890 - val_loss: 0.0947\n",
            "Epoch 168/200\n",
            "469/469 [==============================] - 6s 12ms/step - loss: 0.0889 - val_loss: 0.0945\n",
            "Epoch 169/200\n",
            "469/469 [==============================] - 6s 12ms/step - loss: 0.0889 - val_loss: 0.0948\n",
            "Epoch 170/200\n",
            "469/469 [==============================] - 6s 12ms/step - loss: 0.0889 - val_loss: 0.0945\n",
            "Epoch 171/200\n",
            "469/469 [==============================] - 6s 12ms/step - loss: 0.0890 - val_loss: 0.0946\n",
            "Epoch 172/200\n",
            "469/469 [==============================] - 6s 12ms/step - loss: 0.0888 - val_loss: 0.0945\n",
            "Epoch 173/200\n",
            "469/469 [==============================] - 6s 12ms/step - loss: 0.0888 - val_loss: 0.0949\n",
            "Epoch 174/200\n",
            "469/469 [==============================] - 6s 12ms/step - loss: 0.0888 - val_loss: 0.0946\n",
            "Epoch 175/200\n",
            "469/469 [==============================] - 6s 12ms/step - loss: 0.0889 - val_loss: 0.0946\n",
            "Epoch 176/200\n",
            "469/469 [==============================] - 6s 12ms/step - loss: 0.0888 - val_loss: 0.0948\n",
            "Epoch 177/200\n",
            "469/469 [==============================] - 6s 12ms/step - loss: 0.0888 - val_loss: 0.0950\n",
            "Epoch 178/200\n",
            "469/469 [==============================] - 6s 12ms/step - loss: 0.0888 - val_loss: 0.0947\n",
            "Epoch 179/200\n",
            "469/469 [==============================] - 6s 12ms/step - loss: 0.0888 - val_loss: 0.0950\n",
            "Epoch 180/200\n",
            "469/469 [==============================] - 6s 12ms/step - loss: 0.0888 - val_loss: 0.0950\n",
            "Epoch 181/200\n",
            "469/469 [==============================] - 6s 12ms/step - loss: 0.0887 - val_loss: 0.0948\n",
            "Epoch 182/200\n",
            "469/469 [==============================] - 6s 12ms/step - loss: 0.0887 - val_loss: 0.0949\n",
            "Epoch 183/200\n",
            "469/469 [==============================] - 6s 12ms/step - loss: 0.0888 - val_loss: 0.0947\n",
            "Epoch 184/200\n",
            "469/469 [==============================] - 6s 12ms/step - loss: 0.0887 - val_loss: 0.0946\n",
            "Epoch 185/200\n",
            "469/469 [==============================] - 6s 12ms/step - loss: 0.0887 - val_loss: 0.0947\n",
            "Epoch 186/200\n",
            "469/469 [==============================] - 6s 12ms/step - loss: 0.0887 - val_loss: 0.0951\n",
            "Epoch 187/200\n",
            "469/469 [==============================] - 6s 12ms/step - loss: 0.0887 - val_loss: 0.0950\n",
            "Epoch 188/200\n",
            "469/469 [==============================] - 6s 12ms/step - loss: 0.0887 - val_loss: 0.0954\n",
            "Epoch 189/200\n",
            "469/469 [==============================] - 6s 12ms/step - loss: 0.0886 - val_loss: 0.0956\n",
            "Epoch 190/200\n",
            "469/469 [==============================] - 6s 12ms/step - loss: 0.0887 - val_loss: 0.0950\n",
            "Epoch 191/200\n",
            "469/469 [==============================] - 6s 12ms/step - loss: 0.0887 - val_loss: 0.0948\n",
            "Epoch 192/200\n",
            "469/469 [==============================] - 6s 12ms/step - loss: 0.0886 - val_loss: 0.0946\n",
            "Epoch 193/200\n",
            "469/469 [==============================] - 6s 12ms/step - loss: 0.0887 - val_loss: 0.0944\n",
            "Epoch 194/200\n",
            "469/469 [==============================] - 6s 12ms/step - loss: 0.0885 - val_loss: 0.0949\n",
            "Epoch 195/200\n",
            "469/469 [==============================] - 6s 12ms/step - loss: 0.0887 - val_loss: 0.0952\n",
            "Epoch 196/200\n",
            "469/469 [==============================] - 6s 12ms/step - loss: 0.0886 - val_loss: 0.0956\n",
            "Epoch 197/200\n",
            "469/469 [==============================] - 6s 12ms/step - loss: 0.0886 - val_loss: 0.0948\n",
            "Epoch 198/200\n",
            "469/469 [==============================] - 6s 12ms/step - loss: 0.0886 - val_loss: 0.0951\n",
            "Epoch 199/200\n",
            "469/469 [==============================] - 6s 12ms/step - loss: 0.0886 - val_loss: 0.0947\n",
            "Epoch 200/200\n",
            "469/469 [==============================] - 6s 12ms/step - loss: 0.0885 - val_loss: 0.0950\n"
          ],
          "name": "stdout"
        }
      ]
    },
    {
      "cell_type": "code",
      "metadata": {
        "id": "DjAhA0jdphhZ",
        "colab_type": "code",
        "outputId": "91a2b04b-6f6e-4ecd-f263-8a4f4afb0078",
        "colab": {
          "base_uri": "https://localhost:8080/",
          "height": 295
        }
      },
      "source": [
        "plt.plot(history.history['loss'])\n",
        "plt.plot(history.history['val_loss'])\n",
        "plt.title('model loss')\n",
        "plt.ylabel('loss')\n",
        "plt.xlabel('epoch')\n",
        "plt.legend(['train', 'test'], loc='upper left')\n",
        "plt.show()"
      ],
      "execution_count": 0,
      "outputs": [
        {
          "output_type": "display_data",
          "data": {
            "image/png": "[encoded data removed]",
            "text/plain": [
              "<Figure size 432x288 with 1 Axes>"
            ]
          },
          "metadata": {
            "tags": [],
            "needs_background": "light"
          }
        }
      ]
    },
    {
      "cell_type": "code",
      "metadata": {
        "id": "01Q-Je16roQK",
        "colab_type": "code",
        "outputId": "0003cf46-aa17-45cc-852a-7f02968fdf11",
        "colab": {
          "base_uri": "https://localhost:8080/",
          "height": 306
        }
      },
      "source": [
        "prediction = model.predict(x_test_noise[58].reshape(1,28,28,1))\n",
        "show_image(prediction.reshape(28,28,1), (20,5))"
      ],
      "execution_count": 0,
      "outputs": [
        {
          "output_type": "display_data",
          "data": {
            "image/png": "[encoded data removed]",
            "text/plain": [
              "<Figure size 1440x360 with 1 Axes>"
            ]
          },
          "metadata": {
            "tags": [],
            "needs_background": "light"
          }
        }
      ]
    },
    {
      "cell_type": "code",
      "metadata": {
        "id": "jjmJFMAM6DsB",
        "colab_type": "code",
        "outputId": "3a30a56c-7651-488d-a5e9-5a4ef1adf64d",
        "colab": {
          "base_uri": "https://localhost:8080/",
          "height": 306
        }
      },
      "source": [
        "show_image(x_test[58], (20,5))"
      ],
      "execution_count": 0,
      "outputs": [
        {
          "output_type": "display_data",
          "data": {
            "image/png": "[encoded data removed]",
            "text/plain": [
              "<Figure size 1440x360 with 1 Axes>"
            ]
          },
          "metadata": {
            "tags": [],
            "needs_background": "light"
          }
        }
      ]
    },
    {
      "cell_type": "code",
      "metadata": {
        "id": "Z-It9HEL7DDp",
        "colab_type": "code",
        "colab": {}
      },
      "source": [
        "encoder = model.get_layer(index=0)"
      ],
      "execution_count": 0,
      "outputs": []
    },
    {
      "cell_type": "code",
      "metadata": {
        "id": "yenMkIvAEpko",
        "colab_type": "code",
        "colab": {}
      },
      "source": [
        "encoder.save_weights(\"/content/\")"
      ],
      "execution_count": 0,
      "outputs": []
    },
    {
      "cell_type": "markdown",
      "metadata": {
        "id": "DJx4_fzaY5nm",
        "colab_type": "text"
      },
      "source": [
        "## **Classifier**\n",
        "Input: Noisy Image\n",
        "\n",
        "output: classification of digit"
      ]
    },
    {
      "cell_type": "code",
      "metadata": {
        "id": "4VKTdSKWFGvp",
        "colab_type": "code",
        "colab": {}
      },
      "source": [
        "class Classifier(Model):\n",
        "  def __init__(self):\n",
        "    super(Classifier, self).__init__()\n",
        "    self.encoder = Encoder()\n",
        "    self.encoder.load_weights(\"/content/\")\n",
        "    self.encoder.trainable = False\n",
        "    self.clas = keras.Sequential([ \n",
        "                                   Flatten(input_shape=(3,3,128)),\n",
        "                                   Dense(128, activation = 'relu'),\n",
        "                                   Dense(10),           \n",
        "    ])\n",
        "    \n",
        "  \n",
        "  def call(self,x):\n",
        "    x = self.encoder(x)\n",
        "    x = self.clas(x)\n",
        "    \n",
        "\n",
        "    return x\n"
      ],
      "execution_count": 0,
      "outputs": []
    },
    {
      "cell_type": "code",
      "metadata": {
        "id": "KcpOFYzWJZ_4",
        "colab_type": "code",
        "colab": {}
      },
      "source": [
        "classifier = Classifier()\n",
        "optimizer =  keras.optimizers.Adam(lr=1e-3)\n",
        "classifier.compile(optimizer=optimizer,\n",
        "              loss=tf.keras.losses.SparseCategoricalCrossentropy(from_logits=True),\n",
        "              metrics=['accuracy'])"
      ],
      "execution_count": 0,
      "outputs": []
    },
    {
      "cell_type": "code",
      "metadata": {
        "id": "oi4MMPQ1Jn39",
        "colab_type": "code",
        "outputId": "b979129c-1d9b-42d2-f6af-1312e96e2c20",
        "colab": {
          "base_uri": "https://localhost:8080/",
          "height": 187
        }
      },
      "source": [
        "history = classifier.fit(x_train_noise, y_train,\n",
        "                epochs=5,\n",
        "                batch_size=128,\n",
        "                shuffle=True,\n",
        "                validation_data=(x_test_noise, y_test)\n",
        "                )"
      ],
      "execution_count": 0,
      "outputs": [
        {
          "output_type": "stream",
          "text": [
            "Epoch 1/5\n",
            "469/469 [==============================] - 2s 4ms/step - loss: 0.1767 - accuracy: 0.9447 - val_loss: 0.1103 - val_accuracy: 0.9631\n",
            "Epoch 2/5\n",
            "469/469 [==============================] - 2s 4ms/step - loss: 0.1007 - accuracy: 0.9669 - val_loss: 0.1165 - val_accuracy: 0.9627\n",
            "Epoch 3/5\n",
            "469/469 [==============================] - 2s 4ms/step - loss: 0.0820 - accuracy: 0.9736 - val_loss: 0.0986 - val_accuracy: 0.9696\n",
            "Epoch 4/5\n",
            "469/469 [==============================] - 2s 4ms/step - loss: 0.0710 - accuracy: 0.9770 - val_loss: 0.0934 - val_accuracy: 0.9696\n",
            "Epoch 5/5\n",
            "469/469 [==============================] - 2s 4ms/step - loss: 0.0629 - accuracy: 0.9795 - val_loss: 0.0967 - val_accuracy: 0.9695\n"
          ],
          "name": "stdout"
        }
      ]
    },
    {
      "cell_type": "code",
      "metadata": {
        "id": "F2KtkJ5gOWRF",
        "colab_type": "code",
        "outputId": "fd76bb56-734b-45c2-fb15-e2d777022fd4",
        "colab": {
          "base_uri": "https://localhost:8080/",
          "height": 34
        }
      },
      "source": [
        "prediction_cls = classifier.predict(x_test_noise)\n",
        "np.argmax(prediction_cls[0])"
      ],
      "execution_count": 0,
      "outputs": [
        {
          "output_type": "execute_result",
          "data": {
            "text/plain": [
              "7"
            ]
          },
          "metadata": {
            "tags": []
          },
          "execution_count": 52
        }
      ]
    },
    {
      "cell_type": "code",
      "metadata": {
        "id": "xC6RS2kCbKym",
        "colab_type": "code",
        "outputId": "c07f25d5-c53a-4579-fa0c-0036420bc1a8",
        "colab": {
          "base_uri": "https://localhost:8080/",
          "height": 295
        }
      },
      "source": [
        "plt.plot(history.history['loss'])\n",
        "plt.plot(history.history['val_loss'])\n",
        "plt.title('model loss')\n",
        "plt.ylabel('loss')\n",
        "plt.xlabel('epoch')\n",
        "plt.legend(['train', 'test'], loc='upper left')\n",
        "plt.show()"
      ],
      "execution_count": 0,
      "outputs": [
        {
          "output_type": "display_data",
          "data": {
            "image/png": "[encoded data removed]",
            "text/plain": [
              "<Figure size 432x288 with 1 Axes>"
            ]
          },
          "metadata": {
            "tags": [],
            "needs_background": "light"
          }
        }
      ]
    },
    {
      "cell_type": "code",
      "metadata": {
        "id": "KqFD-NJxQxKJ",
        "colab_type": "code",
        "outputId": "9006acac-4279-4210-989e-1fe33a300338",
        "colab": {
          "base_uri": "https://localhost:8080/",
          "height": 306
        }
      },
      "source": [
        "show_image(prediction.reshape(28,28,1), (20,5))"
      ],
      "execution_count": 0,
      "outputs": [
        {
          "output_type": "display_data",
          "data": {
            "image/png": "[encoded data removed]",
            "text/plain": [
              "<Figure size 1440x360 with 1 Axes>"
            ]
          },
          "metadata": {
            "tags": [],
            "needs_background": "light"
          }
        }
      ]
    },
    {
      "cell_type": "code",
      "metadata": {
        "id": "20oRjaTRRFJP",
        "colab_type": "code",
        "outputId": "9b72c422-bdee-4f53-8391-01da38e4ed0e",
        "colab": {
          "base_uri": "https://localhost:8080/",
          "height": 306
        }
      },
      "source": [
        "show_image(x_test_noise[200], (20,5))"
      ],
      "execution_count": 0,
      "outputs": [
        {
          "output_type": "display_data",
          "data": {
            "image/png": "[encoded data removed]",
            "text/plain": [
              "<Figure size 1440x360 with 1 Axes>"
            ]
          },
          "metadata": {
            "tags": [],
            "needs_background": "light"
          }
        }
      ]
    },
    {
      "cell_type": "code",
      "metadata": {
        "id": "HzDaXB6-SoLN",
        "colab_type": "code",
        "colab": {}
      },
      "source": [
        "def plot_image(i, predictions_array, true_label, img):\n",
        "  predictions_array, true_label, img = predictions_array, true_label[i], img[i]\n",
        "  plt.grid(False)\n",
        "  plt.xticks([])\n",
        "  plt.yticks([])\n",
        "\n",
        "  plt.imshow(img.reshape(28,28))\n",
        "\n",
        "  predicted_label = np.argmax(predictions_array)\n",
        "  if predicted_label == true_label:\n",
        "    color = 'blue'\n",
        "  else:\n",
        "    color = 'red'\n",
        "\n",
        "  plt.xlabel(\"{} {:2.0f}% ({})\".format(predicted_label,\n",
        "                                100*np.max(predictions_array),\n",
        "                               true_label),\n",
        "                                color=color)"
      ],
      "execution_count": 0,
      "outputs": []
    },
    {
      "cell_type": "code",
      "metadata": {
        "id": "hMx0tiHzRwTB",
        "colab_type": "code",
        "outputId": "a2ba9b78-37be-4de4-d9d8-ad7e30317a18",
        "colab": {
          "base_uri": "https://localhost:8080/",
          "height": 729
        }
      },
      "source": [
        "num_rows = 5\n",
        "num_cols = 3\n",
        "num_images = num_rows*num_cols\n",
        "plt.figure(figsize=(2*2*num_cols, 2*num_rows))\n",
        "rand = np.random.randint(0, x_test_noise.shape[0], num_images)\n",
        "j = 0\n",
        "for i in rand :\n",
        "  \n",
        "  plt.subplot(num_rows, 2*num_cols, 2*j+1)\n",
        "  plot_image(i, prediction_cls[i], y_test, x_test_noise)\n",
        "  j += 1\n",
        " \n",
        "plt.tight_layout()\n",
        "plt.show()"
      ],
      "execution_count": 0,
      "outputs": [
        {
          "output_type": "display_data",
          "data": {
            "image/png": "[encoded data removed]",
            "text/plain": [
              "<Figure size 864x720 with 15 Axes>"
            ]
          },
          "metadata": {
            "tags": []
          }
        }
      ]
    }
  ]
}